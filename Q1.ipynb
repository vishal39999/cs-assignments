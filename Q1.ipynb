{
 "cells": [
  {
   "cell_type": "markdown",
   "metadata": {},
   "source": [
    "# Q1"
   ]
  },
  {
   "cell_type": "code",
   "execution_count": null,
   "metadata": {},
   "outputs": [],
   "source": [
    "input_lst = input(\"Enter a list numbers separated by space: \")\n",
    "lst = input_lst.split()\n",
    "print(\"user list is \", lst)\n",
    "print(list(set(lst)))"
   ]
  },
  {
   "cell_type": "markdown",
   "metadata": {},
   "source": [
    "# Q2"
   ]
  },
  {
   "cell_type": "code",
   "execution_count": null,
   "metadata": {
    "scrolled": true
   },
   "outputs": [],
   "source": [
    "input_lst = input(\"Enter a list numbers separated by space: \")\n",
    "lst = input_lst.split()\n",
    "print(\"user list is \", lst)\n",
    "print(list(set(lst)))\n",
    "tup = print(tuple(lst))\n",
    "print(len(lst))"
   ]
  },
  {
   "cell_type": "markdown",
   "metadata": {},
   "source": [
    "# Q3"
   ]
  },
  {
   "cell_type": "code",
   "execution_count": null,
   "metadata": {},
   "outputs": [],
   "source": [
    "def setithBit(n,k): \n",
    "    return ((1 << k) | n) \n",
    "n = 13\n",
    "k = 1\n",
    "print(\"ith bit set number = \", \n",
    "      setithBit(n, k)) "
   ]
  },
  {
   "cell_type": "markdown",
   "metadata": {},
   "source": [
    "# Q4"
   ]
  },
  {
   "cell_type": "code",
   "execution_count": null,
   "metadata": {},
   "outputs": [],
   "source": [
    "lst = [0,1]\n",
    "print(\"enter the number\")\n",
    "no = input() \n",
    "print (lst[int(no) % 2]) "
   ]
  },
  {
   "cell_type": "markdown",
   "metadata": {},
   "source": [
    "# Q5"
   ]
  },
  {
   "cell_type": "code",
   "execution_count": null,
   "metadata": {},
   "outputs": [],
   "source": [
    "A = [1,3,5,7,9]\n",
    "B = [2,4,6,8,10]\n",
    "lst = A + B\n",
    "print(lst)\n",
    "lst.sort()\n",
    "print(lst)"
   ]
  },
  {
   "cell_type": "markdown",
   "metadata": {},
   "source": [
    "# Q6"
   ]
  },
  {
   "cell_type": "code",
   "execution_count": null,
   "metadata": {},
   "outputs": [],
   "source": [
    "input_dict = {}\n",
    "for x in range(5):    \n",
    "  students_names=input('Enter students names : ')\n",
    "  students_marks= input('Enter students marks: ')\n",
    "  input_dict[students_names] = students_marks\n",
    "  print(input_dict)\n",
    "{k: v for k, v in sorted(input_dict.items(), key=lambda item: item[1])}"
   ]
  },
  {
   "cell_type": "code",
   "execution_count": null,
   "metadata": {},
   "outputs": [],
   "source": []
  }
 ],
 "metadata": {
  "kernelspec": {
   "display_name": "Python 3",
   "language": "python",
   "name": "python3"
  },
  "language_info": {
   "codemirror_mode": {
    "name": "ipython",
    "version": 3
   },
   "file_extension": ".py",
   "mimetype": "text/x-python",
   "name": "python",
   "nbconvert_exporter": "python",
   "pygments_lexer": "ipython3",
   "version": "3.7.6"
  }
 },
 "nbformat": 4,
 "nbformat_minor": 4
}
